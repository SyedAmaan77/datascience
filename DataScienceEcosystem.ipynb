{
 "cells": [
  {
   "cell_type": "markdown",
   "id": "a6de9db0-508b-4a79-be15-fd2ddc54f885",
   "metadata": {},
   "source": [
    "# Data Science Tools and Ecosystem"
   ]
  },
  {
   "cell_type": "markdown",
   "id": "bd1052f8-5064-4d7b-a172-6ca56816298d",
   "metadata": {},
   "source": [
    "In this notebook, Data Science Tools and Ecosystem are summarized."
   ]
  },
  {
   "cell_type": "markdown",
   "id": "aefa670a-aa12-4e78-84b7-791570cef1c6",
   "metadata": {},
   "source": [
    "Some of the popular languages that Data Scientist use are:"
   ]
  },
  {
   "cell_type": "markdown",
   "id": "c02af6b7-48b5-4b02-bfaa-53b66fe6232f",
   "metadata": {},
   "source": [
    "1. Python"
   ]
  },
  {
   "cell_type": "markdown",
   "id": "66d35d07-dba7-4c40-99f3-b5f4f861b7b6",
   "metadata": {},
   "source": [
    "2. SQL"
   ]
  },
  {
   "cell_type": "markdown",
   "id": "a4edbeb0-5a2e-4880-81c7-727f79faa85e",
   "metadata": {},
   "source": [
    "3. C++"
   ]
  },
  {
   "cell_type": "markdown",
   "id": "d9c4a754-ad0b-41b6-a7ff-bbc1b0bf57c6",
   "metadata": {},
   "source": [
    "4. Java"
   ]
  },
  {
   "cell_type": "markdown",
   "id": "9c05c4f0-b478-49d1-b226-dbf74884495a",
   "metadata": {},
   "source": [
    "5. R etc..."
   ]
  },
  {
   "cell_type": "markdown",
   "id": "ba483b96-41fb-4298-a38d-b8a939604b1d",
   "metadata": {},
   "source": [
    "Some of the commonly used libraries used by Data Scientists include:"
   ]
  },
  {
   "cell_type": "markdown",
   "id": "63aa9c7b-1851-49e6-9e6b-4f5c51cb58e5",
   "metadata": {},
   "source": [
    "1. Tensorflow"
   ]
  },
  {
   "cell_type": "markdown",
   "id": "96ca023a-1570-4285-bcc3-455a23c794f7",
   "metadata": {},
   "source": [
    "2. Numpy"
   ]
  },
  {
   "cell_type": "markdown",
   "id": "f0660739-b47c-42ab-8ec4-bf02ff0391e3",
   "metadata": {},
   "source": [
    "3. Pandas"
   ]
  },
  {
   "cell_type": "markdown",
   "id": "17efb4ba-54a0-4afa-b6d1-e1a234485a26",
   "metadata": {},
   "source": [
    "4. Matplotlib"
   ]
  },
  {
   "cell_type": "markdown",
   "id": "ce7cdcf4-2604-40f9-bafe-40b0fda6b99c",
   "metadata": {},
   "source": [
    "5. Scipy"
   ]
  },
  {
   "cell_type": "markdown",
   "id": "c380f817-e418-49bf-a02b-9ff7ea47f667",
   "metadata": {},
   "source": [
    "6. PyTorch etc..."
   ]
  },
  {
   "cell_type": "markdown",
   "id": "ee612a5c-c89a-4565-a4e0-7e27694ef1a8",
   "metadata": {},
   "source": [
    "|Data Science Tools|\n",
    "|---|\n",
    "|SAS|\n",
    "|Apache Hadoop|\n",
    "|Tensorflow|\n",
    "|KNIME|"
   ]
  },
  {
   "cell_type": "markdown",
   "id": "95996a4e-6140-4207-8ad2-3d02e66fd3b4",
   "metadata": {},
   "source": [
    "Below are a few examples of evaluating arithmetic expressions in Python:"
   ]
  },
  {
   "cell_type": "code",
   "execution_count": 3,
   "id": "3ceb37d9-a9f9-436a-88f7-82970dbe4027",
   "metadata": {
    "tags": []
   },
   "outputs": [
    {
     "data": {
      "text/plain": [
       "19"
      ]
     },
     "execution_count": 3,
     "metadata": {},
     "output_type": "execute_result"
    }
   ],
   "source": [
    "# This is a common arithmatic example to multiply and then add integers\n",
    "(2*6)+7"
   ]
  },
  {
   "cell_type": "code",
   "execution_count": 4,
   "id": "509f850b-cb57-4b9e-979f-6e929f581789",
   "metadata": {
    "tags": []
   },
   "outputs": [
    {
     "data": {
      "text/plain": [
       "8.333333333333334"
      ]
     },
     "execution_count": 4,
     "metadata": {},
     "output_type": "execute_result"
    }
   ],
   "source": [
    "#This will convert 500 minutes to hours by dividing by 60\n",
    "500/60"
   ]
  },
  {
   "cell_type": "markdown",
   "id": "4e2bf723-9119-421d-a599-3c2d1de1d28d",
   "metadata": {},
   "source": [
    "Objectives\n",
    "• List popular languages for Data Science\n",
    "• List popular libraries for Data Science\n",
    "• List of popular for Data Science tools"
   ]
  },
  {
   "cell_type": "markdown",
   "id": "16dc96fb-fd32-4bec-acaf-0d0bdab9c383",
   "metadata": {},
   "source": [
    " Author's name"
   ]
  },
  {
   "cell_type": "markdown",
   "id": "f087d56d-97f3-4f8e-bdb3-a0c60f7f0837",
   "metadata": {},
   "source": [
    "SYED AMAAN"
   ]
  }
 ],
 "metadata": {
  "kernelspec": {
   "display_name": "Python 3 (ipykernel)",
   "language": "python",
   "name": "python3"
  },
  "language_info": {
   "codemirror_mode": {
    "name": "ipython",
    "version": 3
   },
   "file_extension": ".py",
   "mimetype": "text/x-python",
   "name": "python",
   "nbconvert_exporter": "python",
   "pygments_lexer": "ipython3",
   "version": "3.11.4"
  }
 },
 "nbformat": 4,
 "nbformat_minor": 5
}
